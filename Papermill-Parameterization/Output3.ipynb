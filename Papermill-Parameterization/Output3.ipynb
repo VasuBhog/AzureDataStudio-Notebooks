{
 "cells": [
  {
   "cell_type": "markdown",
   "id": "appropriate-actress",
   "metadata": {
    "azdata_cell_guid": "48bf6650-5191-427a-a9cc-605d0b5f490b",
    "papermill": {
     "duration": 0.005894,
     "end_time": "2021-05-12T23:23:06.662470",
     "exception": false,
     "start_time": "2021-05-12T23:23:06.656576",
     "status": "completed"
    },
    "tags": []
   },
   "source": [
    "#  TEST PARAMETERIZATION"
   ]
  },
  {
   "cell_type": "code",
   "execution_count": 1,
   "id": "egyptian-nevada",
   "metadata": {
    "azdata_cell_guid": "79858630-10c4-496f-9b96-9a3bdcf7529c",
    "execution": {
     "iopub.execute_input": "2021-05-12T23:23:06.690981Z",
     "iopub.status.busy": "2021-05-12T23:23:06.690090Z",
     "iopub.status.idle": "2021-05-12T23:23:06.692167Z",
     "shell.execute_reply": "2021-05-12T23:23:06.692702Z"
    },
    "papermill": {
     "duration": 0.024128,
     "end_time": "2021-05-12T23:23:06.692914",
     "exception": false,
     "start_time": "2021-05-12T23:23:06.668786",
     "status": "completed"
    },
    "tags": [
     "parameters"
    ]
   },
   "outputs": [],
   "source": [
    "x = 2.0\n",
    "y = 5.0\n",
    "z = 'test'"
   ]
  },
  {
   "cell_type": "code",
   "execution_count": 2,
   "id": "derived-activity",
   "metadata": {
    "execution": {
     "iopub.execute_input": "2021-05-12T23:23:06.706988Z",
     "iopub.status.busy": "2021-05-12T23:23:06.706229Z",
     "iopub.status.idle": "2021-05-12T23:23:06.708204Z",
     "shell.execute_reply": "2021-05-12T23:23:06.708783Z"
    },
    "papermill": {
     "duration": 0.010911,
     "end_time": "2021-05-12T23:23:06.708984",
     "exception": false,
     "start_time": "2021-05-12T23:23:06.698073",
     "status": "completed"
    },
    "tags": [
     "injected-parameters"
    ]
   },
   "outputs": [],
   "source": [
    "# Parameters\n",
    "x = 10\n",
    "y = 20\n"
   ]
  },
  {
   "cell_type": "code",
   "execution_count": 3,
   "id": "stunning-zambia",
   "metadata": {
    "azdata_cell_guid": "944ac0d5-0247-44a1-b6b5-6248ae7c9190",
    "execution": {
     "iopub.execute_input": "2021-05-12T23:23:06.722951Z",
     "iopub.status.busy": "2021-05-12T23:23:06.722176Z",
     "iopub.status.idle": "2021-05-12T23:23:06.724046Z",
     "shell.execute_reply": "2021-05-12T23:23:06.724568Z"
    },
    "papermill": {
     "duration": 0.010731,
     "end_time": "2021-05-12T23:23:06.724758",
     "exception": false,
     "start_time": "2021-05-12T23:23:06.714027",
     "status": "completed"
    },
    "tags": []
   },
   "outputs": [],
   "source": [
    "addition = x + y\n",
    "multiply = x * y"
   ]
  },
  {
   "cell_type": "code",
   "execution_count": 4,
   "id": "transparent-vulnerability",
   "metadata": {
    "azdata_cell_guid": "416b956f-eb22-413b-b7ff-22ca40456239",
    "execution": {
     "iopub.execute_input": "2021-05-12T23:23:06.746748Z",
     "iopub.status.busy": "2021-05-12T23:23:06.745870Z",
     "iopub.status.idle": "2021-05-12T23:23:06.748971Z",
     "shell.execute_reply": "2021-05-12T23:23:06.749631Z"
    },
    "papermill": {
     "duration": 0.013927,
     "end_time": "2021-05-12T23:23:06.749848",
     "exception": false,
     "start_time": "2021-05-12T23:23:06.735921",
     "status": "completed"
    },
    "tags": []
   },
   "outputs": [
    {
     "name": "stdout",
     "output_type": "stream",
     "text": [
      "Addition: 30\n",
      "Multiplication: 200\n",
      "test\n"
     ]
    }
   ],
   "source": [
    "print(\"Addition: \" + str(addition))\n",
    "print(\"Multiplication: \" + str(multiply))\n",
    "print(z)"
   ]
  }
 ],
 "metadata": {
  "kernelspec": {
   "display_name": "Python 3",
   "language": "python",
   "name": "python3"
  },
  "language_info": {
   "codemirror_mode": {
    "name": "ipython",
    "version": 3
   },
   "file_extension": ".py",
   "mimetype": "text/x-python",
   "name": "python",
   "nbconvert_exporter": "python",
   "pygments_lexer": "ipython3",
   "version": "3.6.8"
  },
  "papermill": {
   "default_parameters": {},
   "duration": 1.778159,
   "end_time": "2021-05-12T23:23:06.968224",
   "environment_variables": {},
   "exception": null,
   "input_path": "/Users/vasubhog/GitProjects/azuredatastudio-docs/Guides/Release-Testing/Notebooks/Papermill-Parameterization/Input.ipynb",
   "output_path": "/Users/vasubhog/GitProjects/azuredatastudio-docs/Guides/Release-Testing/Notebooks/Papermill-Parameterization/Output3.ipynb",
   "parameters": {
    "x": 10,
    "y": 20
   },
   "start_time": "2021-05-12T23:23:05.190065",
   "version": "2.3.1"
  }
 },
 "nbformat": 4,
 "nbformat_minor": 5
}