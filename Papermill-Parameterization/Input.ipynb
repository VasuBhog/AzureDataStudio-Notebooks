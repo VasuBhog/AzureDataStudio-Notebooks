{
    "metadata": {
        "kernelspec": {
            "name": "python3",
            "display_name": "Python 3",
            "language": "python"
        },
        "language_info": {
            "name": "python",
            "version": "3.6.8",
            "mimetype": "text/x-python",
            "codemirror_mode": {
                "name": "ipython",
                "version": 3
            },
            "pygments_lexer": "ipython3",
            "nbconvert_exporter": "python",
            "file_extension": ".py"
        }
    },
    "nbformat_minor": 2,
    "nbformat": 4,
    "cells": [
        {
            "cell_type": "markdown",
            "source": [
                "# PARAMETERIZATION\n",
                ""
            ],
            "metadata": {
                "azdata_cell_guid": "48bf6650-5191-427a-a9cc-605d0b5f490b"
            }
        },
        {
            "cell_type": "code",
            "source": [
                "x = 2.0\n",
                "y = 5.0\n",
                "z = 'test'"
            ],
            "metadata": {
                "azdata_cell_guid": "79858630-10c4-496f-9b96-9a3bdcf7529c",
                "tags": [
                    "parameters"
                ]
            },
            "outputs": [],
            "execution_count": null
        },
        {
            "cell_type": "code",
            "source": [
                "addition = x + y\n",
                "multiply = x * y"
            ],
            "metadata": {
                "azdata_cell_guid": "944ac0d5-0247-44a1-b6b5-6248ae7c9190"
            },
            "outputs": [],
            "execution_count": null
        },
        {
            "cell_type": "code",
            "source": [
                "print(\"Addition: \" + str(addition))\n",
                "print(\"Multiplication: \" + str(multiply))\n",
                "print(z)"
            ],
            "metadata": {
                "azdata_cell_guid": "416b956f-eb22-413b-b7ff-22ca40456239"
            },
            "outputs": [],
            "execution_count": null
        }
    ]
}