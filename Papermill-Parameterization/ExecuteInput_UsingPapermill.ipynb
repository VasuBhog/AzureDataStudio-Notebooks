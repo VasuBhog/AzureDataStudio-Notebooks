{
    "metadata": {
        "kernelspec": {
            "name": "python3",
            "display_name": "Python 3",
            "language": "python"
        },
        "language_info": {
            "name": "python",
            "version": "3.6.8",
            "mimetype": "text/x-python",
            "codemirror_mode": {
                "name": "ipython",
                "version": 3
            },
            "pygments_lexer": "ipython3",
            "nbconvert_exporter": "python",
            "file_extension": ".py"
        }
    },
    "nbformat_minor": 2,
    "nbformat": 4,
    "cells": [
        {
            "cell_type": "code",
            "source": [
                "import papermill as pm\r\n",
                "\r\n",
                "pm.execute_notebook(\r\n",
                "   'Input Path',\r\n",
                "   'Output Path',\r\n",
                "   parameters = dict(x = 10, y = 20)\r\n",
                ")"
            ],
            "metadata": {
                "azdata_cell_guid": "64c63cf8-2ec4-4a4a-bed5-681600e7d5c8",
                "tags": []
            },
            "outputs": [],
            "execution_count": null
        }
    ]
}