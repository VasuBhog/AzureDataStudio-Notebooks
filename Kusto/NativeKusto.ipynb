{
    "metadata": {
        "kernelspec": {
            "name": "SQL",
            "display_name": "SQL",
            "language": "sql"
        },
        "language_info": {
            "name": "kusto",
            "version": ""
        },
        "connection_name": ""
    },
    "nbformat_minor": 2,
    "nbformat": 4,
    "cells": [
        {
            "cell_type": "markdown",
            "source": [
                "# Native Kusto notebook!\n",
                "\n",
                "### Connection Details: \n",
                "- Cluster: help.kusto.windows.net\n",
                "- Database: Samples\n",
                "\n",
                "## Storm Events summarized by state\n",
                "The kql query below will return only 10 rows - ideal for Charting demo."
            ],
            "metadata": {
                "azdata_cell_guid": "c5f61c53-4ac1-4b6b-b256-091ce808420c"
            }
        },
        {
            "cell_type": "code",
            "source": [
                "StormEvents \n",
                " | summarize Count = count() by State \n",
                " | sort by Count \n",
                " | limit 10\n",
                ""
            ],
            "metadata": {
                "azdata_cell_guid": "039fbc7b-9592-4bee-965a-3fff140821d8"
            },
            "outputs": [],
            "execution_count": null
        },
        {
            "cell_type": "markdown",
            "source": [
                "## Storm Events time line\n",
                "\n",
                "The kql query below can be used to show how timeline works in charting."
            ],
            "metadata": {
                "azdata_cell_guid": "6af44592-e1d7-4bcb-9428-1f78780bb29d"
            }
        },
        {
            "cell_type": "code",
            "source": [
                "StormEvents\n",
                "| summarize EventCount =count() by bin(StartTime, 1d)\n",
                ""
            ],
            "metadata": {
                "azdata_cell_guid": "35dbbd20-7dc9-45f7-a4bb-7c931fbf1dbf"
            },
            "outputs": [],
            "execution_count": null
        }
    ]
}