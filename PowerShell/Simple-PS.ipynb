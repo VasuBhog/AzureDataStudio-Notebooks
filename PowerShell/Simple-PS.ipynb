{
    "metadata": {
        "kernelspec": {
            "name": "powershell",
            "display_name": "PowerShell",
            "language": "powershell"
        },
        "language_info": {
            "name": "powershell",
            "codemirror_mode": "shell",
            "mimetype": "text/x-sh",
            "file_extension": ".ps1"
        }
    },
    "nbformat_minor": 2,
    "nbformat": 4,
    "cells": [
        {
            "cell_type": "markdown",
            "source": [
                "# PowerShell Kernel Test Notebook"
            ],
            "metadata": {
                "azdata_cell_guid": "a6be967e-5875-4722-8674-98e8602c8be3"
            }
        },
        {
            "cell_type": "code",
            "source": [
                "Get-Command\n",
                ""
            ],
            "metadata": {
                "azdata_cell_guid": "2909d00a-5fe9-4dbe-b21a-19a46e27e184",
                "tags": [
                    "hide_input"
                ]
            },
            "outputs": [],
            "execution_count": null
        },
        {
            "cell_type": "code",
            "source": [
                "$x = 'Hello'\n",
                "Write-Host $x"
            ],
            "metadata": {
                "azdata_cell_guid": "0416fabb-ab0b-49dc-81e3-cddb07058ed3",
                "tags": []
            },
            "outputs": [],
            "execution_count": null
        }
    ]
}