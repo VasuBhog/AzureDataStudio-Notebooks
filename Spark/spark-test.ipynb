{
    "metadata": {
        "kernelspec": {
            "name": "pysparkkernel",
            "display_name": "PySpark",
            "language": ""
        },
        "language_info": {
            "name": "pyspark",
            "mimetype": "text/x-python",
            "codemirror_mode": {
                "name": "python",
                "version": 3
            },
            "pygments_lexer": "python3"
        },
        "connection_name": ""
    },
    "nbformat_minor": 2,
    "nbformat": 4,
    "cells": [
        {
            "cell_type": "markdown",
            "source": [
                "# Spark Notebook Test"
            ],
            "metadata": {
                "azdata_cell_guid": "cab19963-f370-44ec-9de6-a25a157513bf"
            }
        },
        {
            "cell_type": "code",
            "source": [
                "%reload_ext sparkmagic"
            ],
            "metadata": {
                "azdata_cell_guid": "bd55f577-a6b5-440a-b566-42e84030eb94"
            },
            "outputs": [],
            "execution_count": null
        },
        {
            "cell_type": "code",
            "source": [
                "import pandas as pd"
            ],
            "metadata": {
                "azdata_cell_guid": "9cd8db85-f681-4fdc-9c2d-e95be2799b51"
            },
            "outputs": [],
            "execution_count": null
        },
        {
            "cell_type": "code",
            "source": [
                "df1 = pd.DataFrame({'a': [1, 2], 'b': [3, 4]})\n",
                "df1"
            ],
            "metadata": {
                "azdata_cell_guid": "ecf6693e-d5f3-4e1b-95db-25542cc6829a",
                "tags": [
                    "hide_input"
                ]
            },
            "outputs": [],
            "execution_count": null
        }
    ]
}