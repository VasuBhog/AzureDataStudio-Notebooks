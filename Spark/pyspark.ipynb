{
    "metadata": {
        "kernelspec": {
            "name": "pysparkkernel",
            "display_name": "PySpark",
            "language": ""
        },
        "language_info": {
            "name": "pyspark",
            "mimetype": "text/x-python",
            "codemirror_mode": {
                "name": "python",
                "version": 3
            },
            "file_extension": ".py",
            "pygments_lexer": "python3"
        },
        "connection_name": ""
    },
    "nbformat_minor": 2,
    "nbformat": 4,
    "cells": [
        {
            "cell_type": "markdown",
            "source": [
                "# Test PySpark Notebook"
            ],
            "metadata": {
                "azdata_cell_guid": "c3c503cd-ab09-4176-8cc4-48b44a07bff9"
            }
        },
        {
            "cell_type": "code",
            "source": [
                "import random\n",
                "num_samples = 100000000\n",
                "\n",
                "def inside(p):     \n",
                "  x, y = random.random(), random.random()\n",
                "  return x*x + y*y < 1\n",
                "\n",
                "count = sc.parallelize(range(0, num_samples)).filter(inside).count()\n",
                "\n",
                "pi = 4 * count / num_samples\n",
                "print(pi)"
            ],
            "metadata": {
                "azdata_cell_guid": "f65d0cda-597c-44ee-9627-7c66fd8270a1",
                "tags": []
            },
            "outputs": [],
            "execution_count": null
        }
    ]
}