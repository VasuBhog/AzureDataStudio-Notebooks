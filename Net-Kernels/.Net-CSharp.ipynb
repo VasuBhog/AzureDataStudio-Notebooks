{
    "metadata": {
        "kernelspec": {
            "name": ".net-csharp",
            "display_name": ".NET (C#)",
            "language": "C#"
        },
        "language_info": {
            "name": "C#",
            "version": "8.0",
            "mimetype": "text/x-csharp",
            "file_extension": ".cs",
            "pygments_lexer": "csharp"
        }
    },
    "nbformat_minor": 2,
    "nbformat": 4,
    "cells": [
        {
            "cell_type": "markdown",
            "source": [
                "# C# Test Notebook"
            ],
            "metadata": {
                "azdata_cell_guid": "2a2db7da-6d7c-427d-9722-feced3701e8c"
            }
        },
        {
            "cell_type": "code",
            "source": [
                "var x = \"Hello!\";\n",
                "display(x);\n",
                "x"
            ],
            "metadata": {
                "azdata_cell_guid": "d5d301f2-4798-44ab-8136-433ed9ff8fde"
            },
            "outputs": [],
            "execution_count": null
        },
        {
            "cell_type": "code",
            "source": [
                "Console.Write(\"hello\");\n",
                "Console.Write(\" \");\n",
                "Console.WriteLine(\"world\");"
            ],
            "metadata": {
                "azdata_cell_guid": "cafb10ab-5ddf-4593-a971-1186c3884e21"
            },
            "outputs": [],
            "execution_count": null
        },
        {
            "cell_type": "code",
            "source": [
                "display(\"hello\");\n",
                "display(\"world\");"
            ],
            "metadata": {
                "azdata_cell_guid": "82314e13-e932-47c9-ad7d-d96c461afdf9"
            },
            "outputs": [],
            "execution_count": null
        },
        {
            "cell_type": "code",
            "source": [
                "var fruitOutput = display(\"Let's get some fruit!\");\n",
                "var basket = new [] {\"apple\", \"orange\", \"coconut\", \"pear\", \"peach\"};\n",
                "\n",
                "foreach (var fruit in basket)\n",
                "{\n",
                "    System.Threading.Thread.Sleep(1000);\n",
                "    fruitOutput.Update($\"I have 1 {fruit}.\");    \n",
                "}\n",
                "\n",
                "System.Threading.Thread.Sleep(1000);\n",
                "\n",
                "fruitOutput.Update(basket);"
            ],
            "metadata": {
                "azdata_cell_guid": "80d6d4db-e364-4da7-9287-5e9c7b3ad67b"
            },
            "outputs": [],
            "execution_count": null
        }
    ]
}