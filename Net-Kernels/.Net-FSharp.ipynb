{
    "metadata": {
        "kernelspec": {
            "name": ".net-fsharp",
            "display_name": ".NET (F#)",
            "language": "F#"
        },
        "language_info": {
            "name": "C#",
            "version": "4.5",
            "mimetype": "text/x-fsharp",
            "file_extension": ".fs",
            "pygments_lexer": "fsharp"
        }
    },
    "nbformat_minor": 2,
    "nbformat": 4,
    "cells": [
        {
            "cell_type": "markdown",
            "source": [
                "# F# Test Notebook"
            ],
            "metadata": {
                "azdata_cell_guid": "f93dd9bb-b799-4019-a0e7-d722c3d87efa"
            }
        },
        {
            "cell_type": "code",
            "source": [
                "(12/4 + 5 + 7) * 4 - 18"
            ],
            "metadata": {
                "azdata_cell_guid": "86d686b8-f8de-40d4-9807-40b730b03496"
            },
            "outputs": [],
            "execution_count": null
        },
        {
            "cell_type": "code",
            "source": [
                "let numbers = [0 .. 10]\n",
                "numbers"
            ],
            "metadata": {
                "azdata_cell_guid": "beb4b87e-650c-47e8-a99e-5d4e5afd761e"
            },
            "outputs": [],
            "execution_count": null
        },
        {
            "cell_type": "code",
            "source": [
                "// Take the numbers from 2nd index to the 5th\n",
                "numbers.[2..5]"
            ],
            "metadata": {
                "azdata_cell_guid": "5091736e-0a91-4c6e-a78c-4a2ff3ea163a"
            },
            "outputs": [],
            "execution_count": null
        },
        {
            "cell_type": "code",
            "source": [
                "numbers.[3]"
            ],
            "metadata": {
                "azdata_cell_guid": "1a79ff91-022a-4913-b28a-7ea22b0a7010"
            },
            "outputs": [],
            "execution_count": null
        },
        {
            "cell_type": "markdown",
            "source": [
                "# Functions in F#"
            ],
            "metadata": {
                "azdata_cell_guid": "93e1754c-4fcb-407e-bda5-da50b4f7a309"
            }
        },
        {
            "cell_type": "code",
            "source": [
                "let sampleFunction x =\n",
                "    2*x*x - 5*x + 3"
            ],
            "metadata": {
                "azdata_cell_guid": "61580154-8293-4126-b9ff-0ec7e1d94d04"
            },
            "outputs": [],
            "execution_count": null
        },
        {
            "cell_type": "code",
            "source": [
                "sampleFunction 5"
            ],
            "metadata": {
                "azdata_cell_guid": "f5b1ae7b-c3d5-42ea-be18-c2c5f77c2a8c"
            },
            "outputs": [],
            "execution_count": null
        },
        {
            "cell_type": "code",
            "source": [
                "let negate x = -x\n",
                "let square x = x * x\n",
                "let print x = printfn \"The number is %d\" x\n",
                "\n",
                "let squareNegateThenPrint x =\n",
                "    print (negate (square x))\n",
                "    \n",
                "squareNegateThenPrint 5"
            ],
            "metadata": {
                "azdata_cell_guid": "09fa40b9-ae5b-4421-a5f2-8ed7963c75ce"
            },
            "outputs": [],
            "execution_count": null
        },
        {
            "cell_type": "markdown",
            "source": [
                "# Strings, Tuples, Lists,and Arrays"
            ],
            "metadata": {
                "azdata_cell_guid": "119e0b06-f29e-4b0d-b8c2-2f8f9513f122"
            }
        },
        {
            "cell_type": "code",
            "source": [
                "let s1 = \"Hello\"\n",
                "let s2 = \"World\"\n",
                "\n",
                "s1 + \", \" + s2 + \"!\""
            ],
            "metadata": {
                "azdata_cell_guid": "71d4f9f9-cf80-45c9-8586-c13bdff989ed"
            },
            "outputs": [],
            "execution_count": null
        },
        {
            "cell_type": "code",
            "source": [
                "\"\"\"A triple-quoted string can contain quotes \"like this\" anywhere within it\"\"\""
            ],
            "metadata": {
                "azdata_cell_guid": "e630330a-98ed-44c1-a50f-f3cf0e89285b"
            },
            "outputs": [],
            "execution_count": null
        },
        {
            "cell_type": "code",
            "source": [
                "(1, \"fred\", Math.PI)"
            ],
            "metadata": {
                "azdata_cell_guid": "4350ec06-c463-4542-8e7f-785dea7c04de"
            },
            "outputs": [],
            "execution_count": null
        },
        {
            "cell_type": "code",
            "source": [
                "struct (1, Math.PI)"
            ],
            "metadata": {
                "azdata_cell_guid": "56ba592f-1e81-4b74-9930-b4da9030d5cb"
            },
            "outputs": [],
            "execution_count": null
        },
        {
            "cell_type": "code",
            "source": [
                "[0 .. 5]"
            ],
            "metadata": {
                "azdata_cell_guid": "9190f4de-72ed-42ea-accb-f5c91229bdb2"
            },
            "outputs": [],
            "execution_count": null
        },
        {
            "cell_type": "code",
            "source": [
                "let firstTwoHundred = [| 1 .. 200 |]\n",
                "firstTwoHundred.[197..]"
            ],
            "metadata": {
                "azdata_cell_guid": "c4e460d9-e39b-426d-b44d-fe096430a2de"
            },
            "outputs": [],
            "execution_count": null
        },
        {
            "cell_type": "code",
            "source": [
                "// Tuples\n",
                "type ContactCard =\n",
                "    { Name: string\n",
                "      Phone: string\n",
                "      ZipCode: string }\n",
                "\n",
                "let alf = { Name = \"Alf\"; Phone = \"(555) 555-5555\"; ZipCode = \"90210\" }\n",
                "alf.Phone"
            ],
            "metadata": {
                "azdata_cell_guid": "363d929f-e7a2-46f6-8a7b-511b1b176163"
            },
            "outputs": [],
            "execution_count": null
        }
    ]
}