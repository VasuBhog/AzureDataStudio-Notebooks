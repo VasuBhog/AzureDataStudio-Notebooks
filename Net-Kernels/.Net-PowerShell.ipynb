{
    "metadata": {
        "kernelspec": {
            "name": ".net-powershell",
            "display_name": ".NET (PowerShell)",
            "language": "PowerShell"
        },
        "language_info": {
            "name": "PowerShell",
            "version": "7.0",
            "mimetype": "text/x-powershell",
            "file_extension": ".ps1",
            "pygments_lexer": "powershell"
        }
    },
    "nbformat_minor": 2,
    "nbformat": 4,
    "cells": [
        {
            "cell_type": "markdown",
            "source": [
                "# .NET PowerShell Test Notebook"
            ],
            "metadata": {
                "azdata_cell_guid": "bbe1ce98-9d20-4af9-b2da-8367588bdecd"
            }
        },
        {
            "cell_type": "code",
            "source": [
                "Get-Command"
            ],
            "metadata": {
                "azdata_cell_guid": "1c726291-7ed6-428e-96c2-7efca81ed8d3"
            },
            "outputs": [],
            "execution_count": null
        },
        {
            "cell_type": "code",
            "source": [
                "$x = 'Hello'\n",
                "Write-Host $x"
            ],
            "metadata": {
                "azdata_cell_guid": "07a99228-e6cc-4e29-a17b-48dba8ec93a2"
            },
            "outputs": [],
            "execution_count": null
        }
    ]
}