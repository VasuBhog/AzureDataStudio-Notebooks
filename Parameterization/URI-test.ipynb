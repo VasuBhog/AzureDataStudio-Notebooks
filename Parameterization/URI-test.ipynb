{
    "metadata": {
        "kernelspec": {
            "name": "python3",
            "display_name": "Python 3",
            "language": "python"
        },
        "language_info": {
            "name": "python",
            "version": "3.6.8",
            "mimetype": "text/x-python",
            "codemirror_mode": {
                "name": "ipython",
                "version": 3
            },
            "pygments_lexer": "ipython3",
            "nbconvert_exporter": "python",
            "file_extension": ".py"
        }
    },
    "nbformat_minor": 2,
    "nbformat": 4,
    "cells": [
        {
            "cell_type": "markdown",
            "source": [
                "# Notebook URI Parameterization\n",
                "\n",
                "## **Open a parameterized notebook and pass parameters via URI**\n",
                "\n",
                "Below is an example of the ADS Notebook URI with new parameters for x and y.\n",
                "\n",
                "## [azuredatastudio://microsoft.notebook/open?url=file:///Users/vasubhog/GitProjects/AzureDataStudio-Notebooks/Input.ipynb?x=10&y=20](azuredatastudio://microsoft.notebook/open?url=file:///Users/vasubhog/GitProjects/AzureDataStudio-Notebooks/Input.ipynb?x=10&y=20)"
            ],
            "metadata": {
                "azdata_cell_guid": "7535ee9e-867d-4050-bf5e-945b636bd32e"
            }
        }
    ]
}