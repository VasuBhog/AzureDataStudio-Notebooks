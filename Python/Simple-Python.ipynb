{
    "metadata": {
        "kernelspec": {
            "name": "python3",
            "display_name": "Python 3",
            "language": "python"
        },
        "language_info": {
            "name": "python",
            "version": "3.6.8",
            "mimetype": "text/x-python",
            "codemirror_mode": {
                "name": "ipython",
                "version": 3
            },
            "pygments_lexer": "ipython3",
            "nbconvert_exporter": "python",
            "file_extension": ".py"
        }
    },
    "nbformat_minor": 2,
    "nbformat": 4,
    "cells": [
        {
            "cell_type": "markdown",
            "source": [
                "# Simple Python Test"
            ],
            "metadata": {
                "azdata_cell_guid": "98655541-651e-43dd-b1d0-52020bd895f0"
            }
        },
        {
            "cell_type": "markdown",
            "source": [
                "Import Test (expected no errors)"
            ],
            "metadata": {
                "azdata_cell_guid": "c672df11-be3a-4512-8910-c1381b7fbe9a"
            }
        },
        {
            "cell_type": "code",
            "source": [
                "import pandas as pd\n",
                "import numpy as np\n",
                "import matplotlib.pyplot as plt"
            ],
            "metadata": {
                "azdata_cell_guid": "b0baec06-8b2f-42a5-800a-f9655ea06e4f",
                "tags": []
            },
            "outputs": [],
            "execution_count": null
        },
        {
            "cell_type": "markdown",
            "source": [
                "Print and Variable Test"
            ],
            "metadata": {
                "azdata_cell_guid": "39cc9d21-d3c8-48ed-add5-b7562e19660b"
            }
        },
        {
            "cell_type": "code",
            "source": [
                "a = 5\r\n",
                "print(\"a =\", 5)\r\n",
                "a = \"High five\"\r\n",
                "print(\"a =\", a)"
            ],
            "metadata": {
                "azdata_cell_guid": "e0a00725-a48b-466a-bf57-6ef3d9e449bc"
            },
            "outputs": [],
            "execution_count": null
        },
        {
            "cell_type": "markdown",
            "source": [
                "User Input Test"
            ],
            "metadata": {
                "azdata_cell_guid": "b8691bc9-43e3-4193-9298-7f311bed7e9b"
            }
        },
        {
            "cell_type": "code",
            "source": [
                "inputString = input('Enter a sentence :')\r\n",
                "print('The inputted string is:', inputString)"
            ],
            "metadata": {
                "azdata_cell_guid": "ce5f18d5-627f-433a-890d-d363ea340aae"
            },
            "outputs": [],
            "execution_count": null
        },
        {
            "cell_type": "markdown",
            "source": [
                "Data Table using SQL Results"
            ],
            "metadata": {
                "azdata_cell_guid": "025528c2-8c32-4149-9b95-200f8a305f02"
            }
        },
        {
            "cell_type": "code",
            "source": [
                "df = pd.read_csv('SQL-Results.csv')\n",
                "df.head(5)\n",
                ""
            ],
            "metadata": {
                "azdata_cell_guid": "1367fd8a-8fb3-40d3-a475-cba660313c43",
                "tags": []
            },
            "outputs": [],
            "execution_count": null
        },
        {
            "cell_type": "markdown",
            "source": [
                "Visaulize Graph Test"
            ],
            "metadata": {
                "azdata_cell_guid": "68f444d9-e3f7-4540-9139-fab46a380fe7"
            }
        },
        {
            "cell_type": "code",
            "source": [
                "plt.close('all')\n",
                "\n",
                "ts = pd.Series(np.random.randn(1000), index=pd.date_range(\"1/1/2000\", periods=1000))\n",
                "ts = ts.cumsum()\n",
                "ts.plot()\n",
                ""
            ],
            "metadata": {
                "azdata_cell_guid": "c7905769-9d67-43e2-b76d-d7c07b831152",
                "tags": []
            },
            "outputs": [],
            "execution_count": null
        }
    ]
}