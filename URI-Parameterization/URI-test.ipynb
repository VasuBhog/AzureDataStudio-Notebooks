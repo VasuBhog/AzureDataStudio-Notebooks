{
    "metadata": {
        "kernelspec": {
            "name": "python3",
            "display_name": "Python 3",
            "language": "python"
        },
        "language_info": {
            "name": "python",
            "version": "3.6.8",
            "mimetype": "text/x-python",
            "codemirror_mode": {
                "name": "ipython",
                "version": 3
            },
            "pygments_lexer": "ipython3",
            "nbconvert_exporter": "python",
            "file_extension": ".py"
        }
    },
    "nbformat_minor": 2,
    "nbformat": 4,
    "cells": [
        {
            "cell_type": "markdown",
            "source": [
                "# Notebook URI Parameterization\n",
                "## **Open Notebook URI and pass parameters via URI to a new Notebook**\n",
                "## [azuredatastudio://microsoft.notebook/open?url=https://raw.githubusercontent.com/VasuBhog/AzureDataStudio-Notebooks/main/Papermill-Parameterization/Input.ipynb?x=10&y=20](azuredatastudio://microsoft.notebook/open?url=https://raw.githubusercontent.com/VasuBhog/AzureDataStudio-Notebooks/main/Papermill-Parameterization/Input.ipynb?x=10&y=20)\n",
                "[test](azuredatastudio://microsoft.notebook/open?url=file:///Users/vasubhog/GitProjects/PYCON/Input.ipynb)  \n",
                "  \n",
                "  \n",
                "## [azuredatastudio://microsoft.notebook/open?](azuredatastudio://microsoft.notebook/open)"
            ],
            "metadata": {
                "azdata_cell_guid": "7535ee9e-867d-4050-bf5e-945b636bd32e"
            }
        }
    ]
}