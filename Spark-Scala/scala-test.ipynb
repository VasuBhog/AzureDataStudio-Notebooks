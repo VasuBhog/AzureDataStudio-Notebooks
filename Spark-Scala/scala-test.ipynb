{
    "metadata": {
        "kernelspec": {
            "name": "sparkkernel",
            "display_name": "Spark | Scala",
            "language": ""
        },
        "language_info": {
            "name": "scala",
            "mimetype": "text/x-scala",
            "codemirror_mode": "text/x-scala",
            "pygments_lexer": "scala"
        },
        "connection_name": ""
    },
    "nbformat_minor": 2,
    "nbformat": 4,
    "cells": [
        {
            "cell_type": "markdown",
            "source": [
                "# Spark Scala Test\n",
                "\n",
                "Connect to a Big Data Cluster"
            ],
            "metadata": {
                "azdata_cell_guid": "f0087c3e-0bf7-4c4d-be99-935f722ea799"
            }
        },
        {
            "cell_type": "code",
            "source": [
                "case class FootballTeam(\n",
                "    name: String,\n",
                "    league: String,\n",
                "    matches_played: Int,\n",
                "    goals_this_season: Int,\n",
                "    top_goal_scorer: String,\n",
                "    wins: Int\n",
                ")"
            ],
            "metadata": {
                "azdata_cell_guid": "097f1fcb-d7ca-463d-8898-f0266cc93b51"
            },
            "outputs": [],
            "execution_count": null
        },
        {
            "cell_type": "code",
            "source": [
                "val brighton: FootballTeam =\n",
                "    FootballTeam(\n",
                "      \"Brighton and Hove Albion\",\n",
                "      \"Premier League\",\n",
                "      matches_played = 29,\n",
                "      goals_this_season = 32,\n",
                "      top_goal_scorer = \"Neil Maupay\",\n",
                "      wins = 6\n",
                "    )"
            ],
            "metadata": {
                "azdata_cell_guid": "ac2f930e-4075-482c-97b9-8e8b214c832c"
            },
            "outputs": [],
            "execution_count": null
        }
    ]
}