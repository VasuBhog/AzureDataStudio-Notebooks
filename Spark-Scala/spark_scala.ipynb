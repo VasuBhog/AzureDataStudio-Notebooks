{
    "metadata": {
        "kernelspec": {
            "name": "sparkkernel",
            "display_name": "Spark | Scala",
            "language": ""
        },
        "language_info": {
            "name": "scala",
            "mimetype": "text/x-scala",
            "codemirror_mode": "text/x-scala",
            "file_extension": ".sc",
            "pygments_lexer": "scala"
        },
        "connection_name": ""
    },
    "nbformat_minor": 2,
    "nbformat": 4,
    "cells": [
        {
            "cell_type": "markdown",
            "source": [
                "# Test Spark | Scala Notebook"
            ],
            "metadata": {
                "azdata_cell_guid": "fe58ad39-8204-4ebb-b1de-690550a37f7a"
            }
        },
        {
            "cell_type": "code",
            "source": [
                "val x = 2\n",
                "val y = 3\n",
                "x+y"
            ],
            "metadata": {
                "azdata_cell_guid": "9d964139-7afd-4067-8e55-5b244e3470a3"
            },
            "outputs": [],
            "execution_count": null
        },
        {
            "cell_type": "code",
            "source": [
                "val data = Seq((1,2,3), (4,5,6), (6,7,8), (9,19,10))\n",
                "val ds = spark.createDataset(data)\n",
                "ds.show()"
            ],
            "metadata": {
                "azdata_cell_guid": "201335cc-c8a5-4166-9269-71f57f0194db"
            },
            "outputs": [],
            "execution_count": null
        }
    ]
}