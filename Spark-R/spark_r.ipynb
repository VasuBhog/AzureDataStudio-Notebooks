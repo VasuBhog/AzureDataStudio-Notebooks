{
    "metadata": {
        "kernelspec": {
            "name": "sparkrkernel",
            "display_name": "Spark | R",
            "language": ""
        },
        "language_info": {
            "name": "sparkR",
            "mimetype": "text/x-rsrc",
            "codemirror_mode": "text/x-rsrc",
            "file_extension": ".r",
            "pygments_lexer": "r"
        },
        "connection_name": ""
    },
    "nbformat_minor": 2,
    "nbformat": 4,
    "cells": [
        {
            "cell_type": "markdown",
            "source": [
                "# Test Spark | R Notebook\n",
                "\n",
                "Examples taken from here [https://notebook.community/koverholt/notebooks/spark/sparkr-basics](https://notebook.community/koverholt/notebooks/spark/sparkr-basics)"
            ],
            "metadata": {
                "azdata_cell_guid": "c15d5d34-729c-4ee4-9fe2-e6c85d7c33ae"
            }
        },
        {
            "cell_type": "markdown",
            "source": [
                "## Create a SparkR DataFrame using the _faithful_ dataset from R"
            ],
            "metadata": {
                "azdata_cell_guid": "099705f4-46aa-4de0-9869-ca625bda9049"
            }
        },
        {
            "cell_type": "code",
            "source": [
                "df <- createDataFrame(faithful, schema = NULL)"
            ],
            "metadata": {
                "azdata_cell_guid": "2fb14970-931c-4ab6-9f90-aa3e1a498ce5"
            },
            "outputs": [],
            "execution_count": null
        },
        {
            "cell_type": "code",
            "source": [
                "df"
            ],
            "metadata": {
                "azdata_cell_guid": "e96b2156-ebdb-47eb-a8c3-b11e7fe267da"
            },
            "outputs": [],
            "execution_count": null
        },
        {
            "cell_type": "code",
            "source": [
                "head(select(df, df$eruptions))"
            ],
            "metadata": {
                "azdata_cell_guid": "22914588-b4b1-4072-9e07-9e733ca91aaa"
            },
            "outputs": [],
            "execution_count": null
        },
        {
            "cell_type": "code",
            "source": [
                "head(filter(df, df$waiting < 50))"
            ],
            "metadata": {
                "azdata_cell_guid": "f0ec8de6-4581-46ea-8b27-e875bf476bc5"
            },
            "outputs": [],
            "execution_count": null
        },
        {
            "cell_type": "code",
            "source": [
                "head(summarize(groupBy(df, df$waiting), count = n(df$waiting)))"
            ],
            "metadata": {
                "azdata_cell_guid": "ee1345be-ba1e-4934-82b8-27a537539101"
            },
            "outputs": [],
            "execution_count": null
        },
        {
            "cell_type": "code",
            "source": [
                "waiting_counts <- summarize(groupBy(df, df$waiting), count = n(df$waiting))\n",
                "head(arrange(waiting_counts, desc(waiting_counts$count)))"
            ],
            "metadata": {
                "azdata_cell_guid": "7a55a691-c0a9-4c4d-b278-85746e14d4eb"
            },
            "outputs": [],
            "execution_count": null
        },
        {
            "cell_type": "code",
            "source": [
                "df$waiting_secs <- df$waiting * 60\n",
                "head(df)"
            ],
            "metadata": {
                "azdata_cell_guid": "27deacd2-f2a1-4afe-aaa3-92a875cb2e2e",
                "tags": [
                    "hide_input"
                ]
            },
            "outputs": [],
            "execution_count": null
        },
        {
            "cell_type": "markdown",
            "source": [
                "## Machine Learning"
            ],
            "metadata": {
                "azdata_cell_guid": "4476c4b8-615e-4973-ab6b-ca50cbd0d37d"
            }
        },
        {
            "cell_type": "code",
            "source": [
                "df <- createDataFrame(sqlContext, iris)"
            ],
            "metadata": {
                "azdata_cell_guid": "4f52376e-310f-4606-abb3-cb5e6d6e9b2d"
            },
            "outputs": [],
            "execution_count": null
        },
        {
            "cell_type": "code",
            "source": [
                "model <- glm(Sepal_Length ~ Sepal_Width + Species, data = df, family = \"gaussian\")"
            ],
            "metadata": {
                "azdata_cell_guid": "f111f389-657a-42f3-ab77-eb57734e2f33"
            },
            "outputs": [],
            "execution_count": null
        },
        {
            "cell_type": "code",
            "source": [
                "summary(model)"
            ],
            "metadata": {
                "azdata_cell_guid": "7723f331-8bd0-4160-9550-eb32b7575183"
            },
            "outputs": [],
            "execution_count": null
        },
        {
            "cell_type": "code",
            "source": [
                "predictions <- predict(model, newData = df)\n",
                "head(select(predictions, \"Sepal_Length\", \"prediction\"))"
            ],
            "metadata": {
                "azdata_cell_guid": "d593040a-4d88-424f-9c90-140a191a8c7b"
            },
            "outputs": [],
            "execution_count": null
        }
    ]
}