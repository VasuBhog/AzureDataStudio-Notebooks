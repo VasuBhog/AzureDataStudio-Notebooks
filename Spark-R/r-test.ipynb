{
    "metadata": {
        "kernelspec": {
            "name": "sparkrkernel",
            "display_name": "Spark | R",
            "language": ""
        },
        "language_info": {
            "name": "sparkR",
            "mimetype": "text/x-rsrc",
            "codemirror_mode": "text/x-rsrc",
            "pygments_lexer": "r"
        },
        "connection_name": ""
    },
    "nbformat_minor": 2,
    "nbformat": 4,
    "cells": [
        {
            "cell_type": "markdown",
            "source": [
                "# Spark | R Notebook Test"
            ],
            "metadata": {
                "azdata_cell_guid": "d7604ce4-bc1f-44f1-84be-fc7f6a26e51d"
            }
        },
        {
            "cell_type": "code",
            "source": [
                "sparkR.session()\n",
                ""
            ],
            "metadata": {
                "azdata_cell_guid": "7bcbf500-3b38-484f-9005-2f703caaad0c"
            },
            "outputs": [],
            "execution_count": null
        },
        {
            "cell_type": "code",
            "source": [
                "library(SparkR)\n",
                "df <- createDataFrame(faithful)\n",
                "\n",
                "# Displays the content of the DataFrame to stdout\n",
                "head(df)"
            ],
            "metadata": {
                "azdata_cell_guid": "4c06c208-fee7-49d7-8beb-775182cefd1e"
            },
            "outputs": [],
            "execution_count": null
        }
    ]
}