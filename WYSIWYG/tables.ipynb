{
    "metadata": {
        "kernelspec": {
            "name": "SQL",
            "display_name": "SQL",
            "language": "sql"
        },
        "language_info": {
            "name": "sql",
            "version": ""
        }
    },
    "nbformat_minor": 2,
    "nbformat": 4,
    "cells": [
        {
            "cell_type": "markdown",
            "source": [
                "|  |  |\n",
                "| --- | --- |\n",
                "| test | test |"
            ],
            "metadata": {
                "azdata_cell_guid": "8b388b8e-2057-49e8-a591-cfdc7cc85c6a"
            }
        }
    ]
}