{
    "metadata": {
        "kernelspec": {
            "name": "SQL",
            "display_name": "SQL",
            "language": "sql"
        },
        "language_info": {
            "name": "sql",
            "version": ""
        }
    },
    "nbformat_minor": 2,
    "nbformat": 4,
    "cells": [
        {
            "cell_type": "markdown",
            "source": [
                "relative link:\n",
                "\n",
                "[WYSIWYG/WYSIWYG-test.ipynb](./WYSIWYG/WYSIWYG-test.ipynb)  \n",
                "\n",
                "  \n",
                "\n",
                "absolute link:\n",
                "\n",
                "  \n",
                "\n",
                "[/Users/vasubhog/GitProjects/azuredatastudio-docs/Guides/Release-Testing/Notebooks/WYSIWYG/WYSIWYG-test.ipynb](./WYSIWYG-test.ipynb)"
            ],
            "metadata": {
                "azdata_cell_guid": "dc144d55-b8db-4a06-8976-f934f66336ee"
            }
        }
    ]
}